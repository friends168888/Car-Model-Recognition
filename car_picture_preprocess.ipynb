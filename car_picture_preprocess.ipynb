{
 "cells": [
  {
   "cell_type": "code",
   "execution_count": 1,
   "metadata": {},
   "outputs": [
    {
     "name": "stderr",
     "output_type": "stream",
     "text": [
      "Using TensorFlow backend.\n"
     ]
    }
   ],
   "source": [
    "from keras.preprocessing.image import img_to_array\n",
    "from keras.models import load_model\n",
    "import numpy as np\n",
    "import argparse\n",
    "import imutils\n",
    "import cv2\n",
    "from imutils import paths\n",
    "import os\n",
    "import shutil"
   ]
  },
  {
   "cell_type": "code",
   "execution_count": 4,
   "metadata": {},
   "outputs": [],
   "source": [
    "path = 'C:\\\\Users\\\\Big data\\\\PycharmProjects\\\\ML\\\\dataset'\n",
    "imagePaths = sorted(list(paths.list_images(path)))\n",
    "model = load_model('classifier0802.h5')"
   ]
  },
  {
   "cell_type": "code",
   "execution_count": null,
   "metadata": {},
   "outputs": [],
   "source": [
    "for imagePath in imagePaths:\n",
    "    # load the image\n",
    "    print(imagePath)\n",
    "    image = cv2.imread(imagePath)\n",
    "#     orig = image.copy()\n",
    "\n",
    "    # pre-process the image for classification\n",
    "    print(imagePath)\n",
    "    try:\n",
    "        image = cv2.resize(image, (128, 128))\n",
    "    except:\n",
    "        shutil.move(imagePath, 'C:\\\\Users\\\\Big data\\\\PycharmProjects\\\\ML\\\\c3')\n",
    "        continue\n",
    "    image = image.astype(\"float\") / 255.0\n",
    "    image = img_to_array(image)\n",
    "    image = np.expand_dims(image, axis=0)\n",
    "    result = model.predict(image)[0]\n",
    "    proba = np.max(result)\n",
    "    print(imagePath)\n",
    "    print(proba)\n",
    "    if proba < 0.95:\n",
    "        try:\n",
    "            shutil.move(imagePath, 'C:\\\\Users\\\\Big data\\\\PycharmProjects\\\\ML\\\\c1')\n",
    "        except shutil.Error:\n",
    "            try:\n",
    "                shutil.move(imagePath, 'C:\\\\Users\\\\Big data\\\\PycharmProjects\\\\ML\\\\c2')\n",
    "            except shutil.Error:\n",
    "                try:\n",
    "                    shutil.move(imagePath, 'C:\\\\Users\\\\Big data\\\\PycharmProjects\\\\ML\\\\c3')\n",
    "                except shutil.Error:\n",
    "                    os.remove(imagePath)"
   ]
  },
  {
   "cell_type": "code",
   "execution_count": null,
   "metadata": {},
   "outputs": [],
   "source": []
  }
 ],
 "metadata": {
  "kernelspec": {
   "display_name": "Python 3",
   "language": "python",
   "name": "python3"
  },
  "language_info": {
   "codemirror_mode": {
    "name": "ipython",
    "version": 3
   },
   "file_extension": ".py",
   "mimetype": "text/x-python",
   "name": "python",
   "nbconvert_exporter": "python",
   "pygments_lexer": "ipython3",
   "version": "3.7.7"
  }
 },
 "nbformat": 4,
 "nbformat_minor": 4
}
